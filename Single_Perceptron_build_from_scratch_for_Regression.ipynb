{
 "cells": [
  {
   "cell_type": "markdown",
   "id": "4a7c049b-fb8c-437e-95a7-7da20033cffa",
   "metadata": {},
   "source": [
    "## STEP-1 : Importing all the required packages"
   ]
  },
  {
   "cell_type": "code",
   "execution_count": 2,
   "id": "e6094942-e4ed-433e-9a31-0298c865145c",
   "metadata": {},
   "outputs": [],
   "source": [
    "import numpy as np\n",
    "import pandas as pd\n",
    "import matplotlib.pyplot as plt\n",
    "\n",
    "## When you import matplotlib, the inline backend is automatically activated. This means you do not need to explicitly use %matplotlib inline \n",
    "## to display plots inline.\n",
    "## Including %matplotlib inline explicitly does no harm and can improve clarity and compatibility.\n",
    "%matplotlib inline\n",
    "\n",
    "## Setting the seed ensures that the sequence of random numbers generated is the same every time the code is run.\n",
    "np.random.seed(3)"
   ]
  },
  {
   "cell_type": "markdown",
   "id": "58311478-e30f-4e19-a472-9228a3a32ad5",
   "metadata": {},
   "source": [
    "# Neural network model with one perceptron and one input feature for Regression problem"
   ]
  },
  {
   "cell_type": "markdown",
   "id": "e821c768-c3a4-4d6c-86d7-86b49051641e",
   "metadata": {},
   "source": [
    "# STEP-2 : Importing the tvmarketing.csv data from the kaggle datasets"
   ]
  },
  {
   "cell_type": "code",
   "execution_count": 5,
   "id": "f2ba428f-7096-4f60-ab3b-5e2cd59a1a60",
   "metadata": {},
   "outputs": [
    {
     "data": {
      "text/html": [
       "<div>\n",
       "<style scoped>\n",
       "    .dataframe tbody tr th:only-of-type {\n",
       "        vertical-align: middle;\n",
       "    }\n",
       "\n",
       "    .dataframe tbody tr th {\n",
       "        vertical-align: top;\n",
       "    }\n",
       "\n",
       "    .dataframe thead th {\n",
       "        text-align: right;\n",
       "    }\n",
       "</style>\n",
       "<table border=\"1\" class=\"dataframe\">\n",
       "  <thead>\n",
       "    <tr style=\"text-align: right;\">\n",
       "      <th></th>\n",
       "      <th>TV</th>\n",
       "      <th>Sales</th>\n",
       "    </tr>\n",
       "  </thead>\n",
       "  <tbody>\n",
       "    <tr>\n",
       "      <th>0</th>\n",
       "      <td>230.1</td>\n",
       "      <td>22.1</td>\n",
       "    </tr>\n",
       "    <tr>\n",
       "      <th>1</th>\n",
       "      <td>44.5</td>\n",
       "      <td>10.4</td>\n",
       "    </tr>\n",
       "    <tr>\n",
       "      <th>2</th>\n",
       "      <td>17.2</td>\n",
       "      <td>9.3</td>\n",
       "    </tr>\n",
       "    <tr>\n",
       "      <th>3</th>\n",
       "      <td>151.5</td>\n",
       "      <td>18.5</td>\n",
       "    </tr>\n",
       "    <tr>\n",
       "      <th>4</th>\n",
       "      <td>180.8</td>\n",
       "      <td>12.9</td>\n",
       "    </tr>\n",
       "  </tbody>\n",
       "</table>\n",
       "</div>"
      ],
      "text/plain": [
       "      TV  Sales\n",
       "0  230.1   22.1\n",
       "1   44.5   10.4\n",
       "2   17.2    9.3\n",
       "3  151.5   18.5\n",
       "4  180.8   12.9"
      ]
     },
     "execution_count": 5,
     "metadata": {},
     "output_type": "execute_result"
    }
   ],
   "source": [
    "df = pd.read_csv('tvmarketing.csv')\n",
    "df.head()"
   ]
  },
  {
   "cell_type": "code",
   "execution_count": 71,
   "id": "66eb6be0-e533-438c-8141-0dc1bb680901",
   "metadata": {},
   "outputs": [],
   "source": [
    "df_o = pd.read_csv('tvmarketing.csv')"
   ]
  },
  {
   "cell_type": "markdown",
   "id": "aead73b4-9f11-4192-ab84-a25bb3f95dce",
   "metadata": {},
   "source": [
    "#### Inspecting the basic characteristis  of the data"
   ]
  },
  {
   "cell_type": "code",
   "execution_count": 7,
   "id": "453fd2f6-7f69-4db9-9009-4f3cd07fb029",
   "metadata": {},
   "outputs": [
    {
     "name": "stdout",
     "output_type": "stream",
     "text": [
      "<class 'pandas.core.frame.DataFrame'>\n",
      "RangeIndex: 200 entries, 0 to 199\n",
      "Data columns (total 2 columns):\n",
      " #   Column  Non-Null Count  Dtype  \n",
      "---  ------  --------------  -----  \n",
      " 0   TV      200 non-null    float64\n",
      " 1   Sales   200 non-null    float64\n",
      "dtypes: float64(2)\n",
      "memory usage: 3.3 KB\n"
     ]
    }
   ],
   "source": [
    "df.info()"
   ]
  },
  {
   "cell_type": "code",
   "execution_count": 8,
   "id": "7b1dacc1-ba6b-4bda-9869-21dc7e8bbc37",
   "metadata": {},
   "outputs": [
    {
     "data": {
      "text/plain": [
       "Index(['TV', 'Sales'], dtype='object')"
      ]
     },
     "execution_count": 8,
     "metadata": {},
     "output_type": "execute_result"
    }
   ],
   "source": [
    "df.columns"
   ]
  },
  {
   "cell_type": "code",
   "execution_count": 9,
   "id": "928fec59-9155-4fc8-a913-1a6fa2bedd61",
   "metadata": {},
   "outputs": [
    {
     "data": {
      "text/html": [
       "<div>\n",
       "<style scoped>\n",
       "    .dataframe tbody tr th:only-of-type {\n",
       "        vertical-align: middle;\n",
       "    }\n",
       "\n",
       "    .dataframe tbody tr th {\n",
       "        vertical-align: top;\n",
       "    }\n",
       "\n",
       "    .dataframe thead th {\n",
       "        text-align: right;\n",
       "    }\n",
       "</style>\n",
       "<table border=\"1\" class=\"dataframe\">\n",
       "  <thead>\n",
       "    <tr style=\"text-align: right;\">\n",
       "      <th></th>\n",
       "      <th>TV</th>\n",
       "      <th>Sales</th>\n",
       "    </tr>\n",
       "  </thead>\n",
       "  <tbody>\n",
       "    <tr>\n",
       "      <th>count</th>\n",
       "      <td>200.000000</td>\n",
       "      <td>200.000000</td>\n",
       "    </tr>\n",
       "    <tr>\n",
       "      <th>mean</th>\n",
       "      <td>147.042500</td>\n",
       "      <td>14.022500</td>\n",
       "    </tr>\n",
       "    <tr>\n",
       "      <th>std</th>\n",
       "      <td>85.854236</td>\n",
       "      <td>5.217457</td>\n",
       "    </tr>\n",
       "    <tr>\n",
       "      <th>min</th>\n",
       "      <td>0.700000</td>\n",
       "      <td>1.600000</td>\n",
       "    </tr>\n",
       "    <tr>\n",
       "      <th>25%</th>\n",
       "      <td>74.375000</td>\n",
       "      <td>10.375000</td>\n",
       "    </tr>\n",
       "    <tr>\n",
       "      <th>50%</th>\n",
       "      <td>149.750000</td>\n",
       "      <td>12.900000</td>\n",
       "    </tr>\n",
       "    <tr>\n",
       "      <th>75%</th>\n",
       "      <td>218.825000</td>\n",
       "      <td>17.400000</td>\n",
       "    </tr>\n",
       "    <tr>\n",
       "      <th>max</th>\n",
       "      <td>296.400000</td>\n",
       "      <td>27.000000</td>\n",
       "    </tr>\n",
       "  </tbody>\n",
       "</table>\n",
       "</div>"
      ],
      "text/plain": [
       "               TV       Sales\n",
       "count  200.000000  200.000000\n",
       "mean   147.042500   14.022500\n",
       "std     85.854236    5.217457\n",
       "min      0.700000    1.600000\n",
       "25%     74.375000   10.375000\n",
       "50%    149.750000   12.900000\n",
       "75%    218.825000   17.400000\n",
       "max    296.400000   27.000000"
      ]
     },
     "execution_count": 9,
     "metadata": {},
     "output_type": "execute_result"
    }
   ],
   "source": [
    "df.describe()"
   ]
  },
  {
   "cell_type": "code",
   "execution_count": 10,
   "id": "42c2dad7-112a-4b17-90c4-58afb05d52d5",
   "metadata": {},
   "outputs": [
    {
     "data": {
      "text/plain": [
       "(200, 2)"
      ]
     },
     "execution_count": 10,
     "metadata": {},
     "output_type": "execute_result"
    }
   ],
   "source": [
    "df.shape"
   ]
  },
  {
   "cell_type": "markdown",
   "id": "9c0aafee-0f89-4288-a9fc-0a5b6f072662",
   "metadata": {},
   "source": [
    "#### 1.Shape of the data tells us : It has 200 values for the TV and 200 values for the Sales"
   ]
  },
  {
   "cell_type": "markdown",
   "id": "a62b2b07-17cc-4eea-8bc9-7577a4ff0444",
   "metadata": {},
   "source": [
    "#### 2. If TV is the input feature then Sales is the output. For a set of new data on TV, we want to predict the Sales data "
   ]
  },
  {
   "cell_type": "code",
   "execution_count": 13,
   "id": "f95a2fa2-a874-4e17-89fd-9ecd8ca7a984",
   "metadata": {},
   "outputs": [
    {
     "data": {
      "image/png": "[encoded data removed]",
      "text/plain": [
       "<Figure size 640x480 with 1 Axes>"
      ]
     },
     "metadata": {},
     "output_type": "display_data"
    }
   ],
   "source": [
    "df.plot(x = 'TV' , y = 'Sales' , kind = 'scatter' , color = 'black');\n",
    "plt.show();"
   ]
  },
  {
   "cell_type": "markdown",
   "id": "341e1aa5-4761-4a41-90ee-c9d6cf2d2c80",
   "metadata": {},
   "source": [
    "#### We want to fit the best fitting line that predicts the Sales for the given TV data"
   ]
  },
  {
   "cell_type": "markdown",
   "id": "c0c74f6f-a71e-466f-a08a-aeb0e0546a98",
   "metadata": {},
   "source": [
    "# Standard Z Normalization :\n",
    "#### Standard Z-normalization, often referred to as Z-score normalization or standardization, is a technique used to scale data so that it has a mean of 0 and a standard deviation of 1. This is particularly useful in machine learning and statistical analysis, where variables with different units or scales can lead to biased results.\n",
    "\n",
    "#### Formula used ::::  normalized_data = (data - data.mean()) / data.std() "
   ]
  },
  {
   "cell_type": "markdown",
   "id": "bb1697b7-4460-4305-961c-6670c6c4bbb1",
   "metadata": {},
   "source": [
    "#### Since TV and Sales data has different units and to make the gradient descent algorithm efficient , we are doing the standard Z normalization"
   ]
  },
  {
   "cell_type": "code",
   "execution_count": 17,
   "id": "b841cba7-bced-4b4b-ae76-2e8fb99e87ad",
   "metadata": {},
   "outputs": [],
   "source": [
    "df['TV'] = (df['TV'] - np.mean(df['TV']) )/ np.std(df['TV'])"
   ]
  },
  {
   "cell_type": "code",
   "execution_count": 18,
   "id": "c2287446-1ed7-4ee6-b1aa-489d2152fd92",
   "metadata": {},
   "outputs": [],
   "source": [
    "df['Sales'] = (df['Sales'] - np.mean(df['Sales']) )/ np.std(df['Sales'])"
   ]
  },
  {
   "cell_type": "code",
   "execution_count": 19,
   "id": "aaabbe9f-b55b-4ff7-aeb4-ea60bc18ddc4",
   "metadata": {},
   "outputs": [
    {
     "data": {
      "text/html": [
       "<div>\n",
       "<style scoped>\n",
       "    .dataframe tbody tr th:only-of-type {\n",
       "        vertical-align: middle;\n",
       "    }\n",
       "\n",
       "    .dataframe tbody tr th {\n",
       "        vertical-align: top;\n",
       "    }\n",
       "\n",
       "    .dataframe thead th {\n",
       "        text-align: right;\n",
       "    }\n",
       "</style>\n",
       "<table border=\"1\" class=\"dataframe\">\n",
       "  <thead>\n",
       "    <tr style=\"text-align: right;\">\n",
       "      <th></th>\n",
       "      <th>TV</th>\n",
       "      <th>Sales</th>\n",
       "    </tr>\n",
       "  </thead>\n",
       "  <tbody>\n",
       "    <tr>\n",
       "      <th>0</th>\n",
       "      <td>0.969852</td>\n",
       "      <td>1.552053</td>\n",
       "    </tr>\n",
       "    <tr>\n",
       "      <th>1</th>\n",
       "      <td>-1.197376</td>\n",
       "      <td>-0.696046</td>\n",
       "    </tr>\n",
       "    <tr>\n",
       "      <th>2</th>\n",
       "      <td>-1.516155</td>\n",
       "      <td>-0.907406</td>\n",
       "    </tr>\n",
       "    <tr>\n",
       "      <th>3</th>\n",
       "      <td>0.052050</td>\n",
       "      <td>0.860330</td>\n",
       "    </tr>\n",
       "    <tr>\n",
       "      <th>4</th>\n",
       "      <td>0.394182</td>\n",
       "      <td>-0.215683</td>\n",
       "    </tr>\n",
       "  </tbody>\n",
       "</table>\n",
       "</div>"
      ],
      "text/plain": [
       "         TV     Sales\n",
       "0  0.969852  1.552053\n",
       "1 -1.197376 -0.696046\n",
       "2 -1.516155 -0.907406\n",
       "3  0.052050  0.860330\n",
       "4  0.394182 -0.215683"
      ]
     },
     "execution_count": 19,
     "metadata": {},
     "output_type": "execute_result"
    }
   ],
   "source": [
    "df.head()"
   ]
  },
  {
   "cell_type": "markdown",
   "id": "9e5572c1-8d91-48a3-bf93-52e82a050e2a",
   "metadata": {},
   "source": [
    "#### Plotting the normalized data in scatter format"
   ]
  },
  {
   "cell_type": "code",
   "execution_count": 21,
   "id": "a8472886-cb56-475a-b8bf-c291c40235cc",
   "metadata": {},
   "outputs": [
    {
     "data": {
      "image/png": "[encoded data removed]",
      "text/plain": [
       "<Figure size 640x480 with 1 Axes>"
      ]
     },
     "metadata": {},
     "output_type": "display_data"
    }
   ],
   "source": [
    "df.plot(x = 'TV' , y = 'Sales' ,kind = 'scatter' , color = 'green')\n",
    "plt.show()"
   ]
  },
  {
   "cell_type": "markdown",
   "id": "17cc0d1c-0777-4501-9de5-7461974b0048",
   "metadata": {},
   "source": [
    "#### TV is our 'x' and Sales is our 'y'. Reshape these data into ROW VECTORS"
   ]
  },
  {
   "cell_type": "code",
   "execution_count": 23,
   "id": "b9df59d3-18a1-4748-8a8b-c1a5b9a66efe",
   "metadata": {},
   "outputs": [
    {
     "name": "stdout",
     "output_type": "stream",
     "text": [
      "(200,)\n",
      "(200,)\n"
     ]
    }
   ],
   "source": [
    "x_norm = df['TV']\n",
    "y_norm = df['Sales']\n",
    "## checking the shape of the x_norm and the y_norm\n",
    "print(x_norm.shape)\n",
    "print(y_norm.shape)"
   ]
  },
  {
   "cell_type": "code",
   "execution_count": 24,
   "id": "55c99f3f-60ed-4956-8adb-f5393c4b92bc",
   "metadata": {},
   "outputs": [
    {
     "name": "stdout",
     "output_type": "stream",
     "text": [
      "(1, 200)\n",
      "(1, 200)\n"
     ]
    }
   ],
   "source": [
    "## Reshaping them into the row vectors\n",
    "x_norm = np.array(x_norm).reshape((1,len(x_norm)))\n",
    "y_norm = np.array(y_norm).reshape((1,len(y_norm)))\n",
    "\n",
    "print(x_norm.shape)\n",
    "print(y_norm.shape)"
   ]
  },
  {
   "cell_type": "markdown",
   "id": "c227e867-7129-4ba1-b3a2-f5883ba32d3f",
   "metadata": {},
   "source": [
    "#### Find the number of training examples from the shape of the x_norm"
   ]
  },
  {
   "cell_type": "code",
   "execution_count": 26,
   "id": "941d3056-4324-4c50-950a-cb74c2401fbe",
   "metadata": {},
   "outputs": [
    {
     "name": "stdout",
     "output_type": "stream",
     "text": [
      "Total number of training examples is 200\n"
     ]
    }
   ],
   "source": [
    "print('Total number of training examples is {}'.format(x_norm.shape[1]))"
   ]
  },
  {
   "cell_type": "markdown",
   "id": "d2b666d5-97ec-4f91-bd66-4a5a74677200",
   "metadata": {},
   "source": [
    "# Implementing the Neural Network Model for Linear Regression"
   ]
  },
  {
   "cell_type": "markdown",
   "id": "750213e5-0175-45bf-9564-62a6fb8f14d4",
   "metadata": {},
   "source": [
    "# Define the Structure of the Neural network\n",
    "#### Input layer has One feature or One input\n",
    "#### Output layer also has one output\n",
    "#### The size of the input layer is the number of rows in the x_norm and size of output layer is the number of rows in the y_norm"
   ]
  },
  {
   "cell_type": "code",
   "execution_count": 29,
   "id": "ced78296-5216-449e-a394-b702d48945ff",
   "metadata": {},
   "outputs": [
    {
     "name": "stdout",
     "output_type": "stream",
     "text": [
      "The size of the input layer is 1\n",
      "The size of the output layer is 1\n"
     ]
    }
   ],
   "source": [
    "def layer_size(x,y):\n",
    "    n_x = x.shape[0]\n",
    "    n_y = y.shape[0]\n",
    "    return (n_x,n_y)\n",
    "\n",
    "(n_x , n_y) = layer_size(x_norm , y_norm)\n",
    "print('The size of the input layer is {}'.format(n_x))\n",
    "print('The size of the output layer is {}'.format(n_y))"
   ]
  },
  {
   "cell_type": "markdown",
   "id": "f9045df4-43c8-4c52-b023-2142ecaad2ea",
   "metadata": {},
   "source": [
    "# Inititializing the weights and biases of the neural network model.\n",
    "#### Weight is an array of shape  = n_y X n_x\n",
    "#### Bias is an array of shape = n_y X 1"
   ]
  },
  {
   "cell_type": "code",
   "execution_count": 31,
   "id": "dab28c17-66c4-45ee-8983-6e1a876d869c",
   "metadata": {},
   "outputs": [
    {
     "name": "stdout",
     "output_type": "stream",
     "text": [
      "Initial value of the weight taken is : [[0.01788628]]\n",
      "Initial value of the bias taken is : [[0.]]\n"
     ]
    }
   ],
   "source": [
    "def initialize_parameters(n_x , n_y):\n",
    "    W = np.random.randn(n_x,n_y) * 0.01  ## weight generated is a 2D array with one row and one column.eg [[0.5454]]\n",
    "    B = np.zeros((n_y , 1))\n",
    "    parameters = {'weight':W , 'bias': B}\n",
    "    return parameters\n",
    "\n",
    "parameters = initialize_parameters(n_x , n_y)\n",
    "print('Initial value of the weight taken is : {}'.format(parameters['weight']))\n",
    "print('Initial value of the bias taken is : {}'.format(parameters['bias']))"
   ]
  },
  {
   "cell_type": "markdown",
   "id": "e441fce9-c5f3-4784-bb59-8c975ac14d38",
   "metadata": {},
   "source": [
    "# Initiating the forward propagation \n",
    "#### y_hat = w.x + b ,  where y_hat will be the predicted value\n",
    "#### matrix of w and x : inner order must be same to implement the matrix multiplication\n",
    "#### w matrix is of size (1,1) while x matrix is of size (1,200),so it will work.\n",
    "#### Also size of b is (1,1) in our case"
   ]
  },
  {
   "cell_type": "code",
   "execution_count": 33,
   "id": "9b3a8356-0af3-465f-a9e1-e855d8b3a57a",
   "metadata": {},
   "outputs": [
    {
     "name": "stdout",
     "output_type": "stream",
     "text": [
      "The shape of the y_hat is (1, 200)\n",
      "First few values of the y_hat is [ 0.01734705 -0.02141661 -0.02711838  0.00093098  0.00705046 -0.02889366]\n"
     ]
    }
   ],
   "source": [
    "def forward_propagation(x,parameters):\n",
    "    W = parameters['weight']\n",
    "    B = parameters['bias']\n",
    "    y_hat = np.matmul(W,x) + B\n",
    "    z = y_hat\n",
    "    return z\n",
    "\n",
    "y_hat = forward_propagation(x_norm , parameters)  ## here parameters is a dictionary we got in previous cell containing the weight and the bias values\n",
    "print('The shape of the y_hat is {}'.format(y_hat.shape))  ## y_hat is also a 2D array of shape (1,200)\n",
    "print('First few values of the y_hat is {}'.format(y_hat[0,0:6])) ## here 0 means first row and 0:5 means first five column values in the first row"
   ]
  },
  {
   "cell_type": "markdown",
   "id": "8fc36f5f-355b-4bd3-a26a-2ab1578fe1b5",
   "metadata": {},
   "source": [
    "# Computing the Cost function\n",
    "#### For cost function we need predicted values (y_hat,which is an array of size (1,200)) and the actual values (y_norm , which is also an array of the size (1,200))"
   ]
  },
  {
   "cell_type": "code",
   "execution_count": 35,
   "id": "cdbcf27c-210c-4c29-b7f5-43ca74df6a16",
   "metadata": {},
   "outputs": [
    {
     "name": "stdout",
     "output_type": "stream",
     "text": [
      "Cost  = 0.4861688708015972\n"
     ]
    }
   ],
   "source": [
    "def cost_function(y_hat , y):\n",
    "    m = y_hat.shape[1]\n",
    "    cost = np.sum((y_hat - y)**2) / (2*m)\n",
    "    return cost\n",
    "\n",
    "print('Cost  = {}'.format(cost_function(y_hat , y_norm)))"
   ]
  },
  {
   "cell_type": "markdown",
   "id": "459472b9-2142-4d42-8ef9-04618cb038dc",
   "metadata": {},
   "source": [
    "# Initiating Backward Propagation \n",
    "## Calculating the partial derivatives of cost function w.r.t weight and bias"
   ]
  },
  {
   "cell_type": "code",
   "execution_count": 37,
   "id": "b626eea8-8be4-43b8-941f-1e77154ea8da",
   "metadata": {},
   "outputs": [
    {
     "name": "stdout",
     "output_type": "stream",
     "text": [
      "dL/dw = [[-0.76433814]]\n",
      "dL/db = [[1.86517468e-16]]\n"
     ]
    }
   ],
   "source": [
    "def backward_propagation(y_hat , y , x):\n",
    "    m = x.shape[1]\n",
    "    error = y_hat - y\n",
    "    dw = 1/m * np.dot(error , x.T) ## error has a size (1,200) while x has a size (1,200).we need to transpose the x_matrix \n",
    "    db = 1/m * np.sum(error , axis=1 , keepdims = True)\n",
    "    derivative = {'DW':dw , 'DB' : db}\n",
    "    return derivative\n",
    "\n",
    "derivative = backward_propagation(y_hat , y_norm , x_norm)\n",
    "\n",
    "print('dL/dw = {}'.format(derivative['DW']))  ## 2D array of size (1,1)\n",
    "print('dL/db = {}'.format(derivative['DB']))  ## 2D array of size (1,1)"
   ]
  },
  {
   "cell_type": "markdown",
   "id": "bc6c0fcd-3aa9-4b26-a63c-04eafb420271",
   "metadata": {},
   "source": [
    "# Updating the parameters (weights and biases)\n",
    "#### w --> w - (learning_rate * dL/dw)\n",
    "#### b --> b - (learning_rate * dL/db)"
   ]
  },
  {
   "cell_type": "code",
   "execution_count": 39,
   "id": "3a77766d-fcb4-4461-95ae-c465fa7c17a2",
   "metadata": {},
   "outputs": [
    {
     "name": "stdout",
     "output_type": "stream",
     "text": [
      "The updated value of the weight is : [[0.05610319]]\n",
      "The updated value of the bias is : [[-9.32587341e-18]]\n"
     ]
    }
   ],
   "source": [
    "def update_parameters(parameters , derivative ,  learning_rate = 0.05):\n",
    "    W = parameters['weight']\n",
    "    B = parameters['bias']\n",
    "    dw = derivative['DW']\n",
    "    db = derivative['DB']\n",
    "    W = W - (learning_rate * dw)\n",
    "    B = B - (learning_rate * db)\n",
    "    parameters = {'weight':W , 'bias':B}\n",
    "    return parameters\n",
    "\n",
    "updated_parameters = update_parameters(parameters , derivative)\n",
    "\n",
    "print('The updated value of the weight is : {}'.format(updated_parameters['weight']))\n",
    "print('The updated value of the bias is : {}'.format(updated_parameters['bias']))"
   ]
  },
  {
   "cell_type": "markdown",
   "id": "894130ce-9ea0-42a8-94fc-1632f0db1bb1",
   "metadata": {},
   "source": [
    "# Finalizing the Neural Network model : combining all the steps into one and performing iteration n times\n",
    "#### What we need in parameters for this function are : x , y , number of iterations , learning_rate\n",
    "#### step_0 : get sizes of input and output layers i.e. n_x and n_y\n",
    "#### step_1 : Initialize the parameters (weights and biases)\n",
    "#### step_2 : Forward_progation\n",
    "#### step_3 : computing the cost function\n",
    "#### step_4 : Backward propagation\n",
    "#### step_5 : updating the weighths and biases using Gradient descent \n",
    "#### step_6 : printing the final cost obtained"
   ]
  },
  {
   "cell_type": "code",
   "execution_count": 41,
   "id": "05059b15-7e8a-4085-83b3-6c70ce06a28e",
   "metadata": {
    "scrolled": true
   },
   "outputs": [
    {
     "name": "stdout",
     "output_type": "stream",
     "text": [
      "The cost after 0th iteration : 0.49659504037484825\n",
      "The cost after 1th iteration : 0.46709811520935957\n",
      "The cost after 2th iteration : 0.44047714024750606\n",
      "The cost after 3th iteration : 0.41645171034443323\n",
      "The cost after 4th iteration : 0.39476875985691007\n",
      "The cost after 5th iteration : 0.3751998970419204\n",
      "The cost after 6th iteration : 0.35753899835139225\n",
      "The cost after 7th iteration : 0.34160003728319055\n",
      "The cost after 8th iteration : 0.32721512491913857\n",
      "The cost after 9th iteration : 0.3142327415105816\n",
      "The cost after 10th iteration : 0.30251614048435893\n",
      "The cost after 11th iteration : 0.291941908058193\n",
      "The cost after 12th iteration : 0.2823986632935782\n",
      "The cost after 13th iteration : 0.27378588489351335\n",
      "The cost after 14th iteration : 0.2660128523874549\n",
      "The cost after 15th iteration : 0.25899769055073707\n",
      "The cost after 16th iteration : 0.2526665069930993\n",
      "The cost after 17th iteration : 0.24695261383233114\n",
      "The cost after 18th iteration : 0.24179582525473794\n",
      "The cost after 19th iteration : 0.23714182356346\n",
      "The cost after 20th iteration : 0.2329415870370817\n",
      "The cost after 21th iteration : 0.22915087357202535\n",
      "The cost after 22th iteration : 0.2257297546698119\n",
      "The cost after 23th iteration : 0.22264219486056425\n",
      "The cost after 24th iteration : 0.21985567213271828\n",
      "The cost after 25th iteration : 0.21734083537083732\n",
      "The cost after 26th iteration : 0.21507119519323972\n",
      "The cost after 27th iteration : 0.21302284493295787\n",
      "The cost after 28th iteration : 0.21117420882305354\n",
      "The cost after 29th iteration : 0.20950581473386484\n",
      "The cost after 30th iteration : 0.20800008906837206\n",
      "The cost after 31th iteration : 0.20664117165526485\n",
      "The cost after 32th iteration : 0.20541474868993556\n",
      "The cost after 33th iteration : 0.20430790196372592\n",
      "The cost after 34th iteration : 0.2033089727933217\n",
      "The cost after 35th iteration : 0.20240743921703186\n",
      "The cost after 36th iteration : 0.2015938051644303\n",
      "The cost after 37th iteration : 0.20085950043195738\n",
      "The cost after 38th iteration : 0.20019679041090058\n",
      "The cost after 39th iteration : 0.19959869461689678\n",
      "The cost after 40th iteration : 0.19905891316280844\n",
      "The cost after 41th iteration : 0.19857176040049362\n",
      "The cost after 42th iteration : 0.19813210503250459\n",
      "The cost after 43th iteration : 0.19773531606289438\n",
      "The cost after 44th iteration : 0.19737721401782124\n",
      "The cost after 45th iteration : 0.19705402692214274\n",
      "The cost after 46th iteration : 0.19676235056829283\n",
      "The cost after 47th iteration : 0.19649911265894332\n",
      "The cost after 48th iteration : 0.19626154044575542\n",
      "The cost after 49th iteration : 0.1960471315233533\n",
      "Final updated value of the weight is : [[0.72237206]]\n",
      "Final updated value of the bias is : [[-2.20934382e-16]]\n"
     ]
    }
   ],
   "source": [
    "def neural_network_model(x,y,num_iterations = 50 , learning_rate = 0.05 , print_cost = False):\n",
    "    ## \n",
    "    n_x = layer_size(x,y)[0]\n",
    "    n_y = layer_size(x,y)[1]  ## step_0 : get n_x and n_y\n",
    "    \n",
    "    parameters = initialize_parameters(n_x , n_y)   ## step_1 : Get initial weight and biases  \n",
    "    \n",
    "    for i in range(num_iterations):\n",
    "        y_hat = forward_propagation(x , parameters) ## step_2:forward propagation \n",
    "        cost = cost_function(y_hat , y)             ## step_3 : computing the cost function\n",
    "        derivative = backward_propagation(y_hat,y,x)  ## step_4 : Get the derivatives of cost function w.r.t weigths and bias\n",
    "        parameters = update_parameters(parameters , derivative)  ## step_5 : updating the weight and biases values\n",
    "        \n",
    "## NOTE : step_5 variable \"parameters\" must be same as input inside the function in step_2 i.e. y_hat then only it will iterate\n",
    "        if print_cost:\n",
    "            print('The cost after {}th iteration : {}'.format(i , cost))\n",
    "\n",
    "    return parameters\n",
    "\n",
    "parameters = neural_network_model(x_norm , y_norm ,print_cost = True)\n",
    "print('Final updated value of the weight is : {}'.format(parameters['weight']))\n",
    "print('Final updated value of the bias is : {}'.format(parameters['bias']))"
   ]
  },
  {
   "cell_type": "markdown",
   "id": "0f8e7e26-8dd8-4a8f-a921-f21eb68a3d6d",
   "metadata": {},
   "source": [
    "## You can observe that cost after 50 iterations has come down to around 0.19606 "
   ]
  },
  {
   "cell_type": "markdown",
   "id": "7cf029fd-5606-47dd-a98d-322afa5e0b7c",
   "metadata": {},
   "source": [
    "# Now we can feed in new data for 'TV' marketing expenses  and predict its sales prices "
   ]
  },
  {
   "cell_type": "code",
   "execution_count": 73,
   "id": "8731d45a-3db6-4802-b997-15044a30b688",
   "metadata": {},
   "outputs": [
    {
     "name": "stdout",
     "output_type": "stream",
     "text": [
      "Marketing expenses:\n",
      "[ 50 120 280 350]\n",
      "Sales predictions:\n",
      "[ 9.7623977  12.83535193 19.85924732 22.93220155]\n"
     ]
    }
   ],
   "source": [
    "def predict(x, y, parameters , x_predict):  ## Hete x and y are the raw data i.e. NOT NORMALIZED\n",
    "    W = parameters['weight']\n",
    "    B = parameters['bias']\n",
    "    ## normalization of the x_data\n",
    "    if isinstance(x, pd.Series):   ## if x_data is a numpy series\n",
    "        x_mean = np.mean(x)\n",
    "        x_std = np.std(x)\n",
    "        x_predict_norm = ((x_predict - x_mean)/x_std).reshape((1,len(x_predict)))\n",
    "    else:\n",
    "        x_mean = np.mean(x).reshape((len(x.axes[1]) , 1))\n",
    "        x_std = np.std(x).reshape((len(x.axes[1]) , 1))\n",
    "        x_predict_norm = ((x_predict - x_mean)/x_std)\n",
    "        \n",
    "    y_predict_norm = np.matmul(W,x_predict_norm) + B\n",
    "    y_predict = y_predict_norm * np.std(y) + np.mean(y)\n",
    "\n",
    "    return y_predict[0]\n",
    "\n",
    "x_predict = np.array([50,120,280,350])\n",
    "y_predict = predict(df_o['TV'] , df_o['Sales'] , parameters , x_predict)\n",
    "\n",
    "print(f'Marketing expenses:\\n{x_predict}')\n",
    "print(f'Sales predictions:\\n{y_predict}')\n",
    "    \n",
    "    "
   ]
  },
  {
   "cell_type": "markdown",
   "id": "e95e9357-a853-4997-9c24-31b422adc341",
   "metadata": {},
   "source": [
    "# plotting the linear regression line for the scatter plots"
   ]
  },
  {
   "cell_type": "code",
   "execution_count": 75,
   "id": "8694ef71-a8cc-473d-903d-6ae35977c3d5",
   "metadata": {},
   "outputs": [
    {
     "data": {
      "image/png": "[encoded data removed]",
      "text/plain": [
       "<Figure size 640x480 with 1 Axes>"
      ]
     },
     "metadata": {},
     "output_type": "display_data"
    }
   ],
   "source": [
    "fig,ax = plt.subplots()\n",
    "plt.scatter(df_o['TV'] , df_o['Sales'] , color = 'black');\n",
    "\n",
    "plt.xlabel('$X$');\n",
    "plt.ylabel('$Y$');\n",
    "\n",
    "x_line = np.arange(np.min(df_o['TV']) , np.max(df_o['TV'])*1.1 , 0.1)\n",
    "y_line = predict(df_o['TV'] , df_o['Sales'] , parameters , x_line)\n",
    "\n",
    "ax.plot(x_line , y_line , 'r');\n",
    "ax.plot(x_predict , y_predict , 'bo');\n",
    "plt.plot();\n",
    "plt.show();"
   ]
  },
  {
   "cell_type": "code",
   "execution_count": null,
   "id": "6b8e2113-1795-40d9-acac-23eabe220816",
   "metadata": {},
   "outputs": [],
   "source": []
  }
 ],
 "metadata": {
  "kernelspec": {
   "display_name": "Python 3 (ipykernel)",
   "language": "python",
   "name": "python3"
  },
  "language_info": {
   "codemirror_mode": {
    "name": "ipython",
    "version": 3
   },
   "file_extension": ".py",
   "mimetype": "text/x-python",
   "name": "python",
   "nbconvert_exporter": "python",
   "pygments_lexer": "ipython3",
   "version": "3.12.7"
  }
 },
 "nbformat": 4,
 "nbformat_minor": 5
}
